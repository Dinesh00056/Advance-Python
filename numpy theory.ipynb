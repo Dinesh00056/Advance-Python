{
 "cells": [
  {
   "cell_type": "code",
   "execution_count": 1,
   "id": "060a775e-f398-4656-8058-ac73fee43db6",
   "metadata": {},
   "outputs": [],
   "source": [
    "# What is NumPy?\n",
    "# NumPy is a Python library used for working with arrays.\n",
    "\n",
    "# It also has functions for working in domain of linear algebra, fourier transform, and matrices.\n",
    "\n",
    "# NumPy was created in 2005 by Travis Oliphant. It is an open source project and you can use it freely.\n",
    "\n",
    "# # NumPy stands for Numerical Python."
   ]
  },
  {
   "cell_type": "code",
   "execution_count": 2,
   "id": "17d5aa8c-b811-4d15-b269-1728d5ba60b1",
   "metadata": {},
   "outputs": [],
   "source": [
    "# Why Use NumPy?\n",
    "# In Python we have lists that serve the purpose of arrays, but they are slow to process.\n",
    "\n",
    "# NumPy aims to provide an array object that is up to 50x faster than traditional Python lists.\n",
    "\n",
    "# The array object in NumPy is called ndarray, it provides a lot of supporting functions that make working with ndarray very easy.\n",
    "\n",
    "# Arrays are very frequently used in data science, where speed and resources are very important."
   ]
  },
  {
   "cell_type": "code",
   "execution_count": 3,
   "id": "4622320b-01ae-4db3-99b1-d511dc333910",
   "metadata": {},
   "outputs": [],
   "source": [
    "# Why is NumPy Faster Than Lists?\n",
    "# NumPy arrays are stored at one continuous place in memory unlike lists, so processes can access and manipulate them very efficiently.\n",
    "\n",
    "# This behavior is called locality of reference in computer science.\n",
    "\n",
    "# This is the main reason why NumPy is faster than lists. Also it is optimized to work with latest CPU architectures.\n",
    "\n"
   ]
  },
  {
   "cell_type": "code",
   "execution_count": 4,
   "id": "127303a5-2e5b-4a15-8dd2-c5160223fe4c",
   "metadata": {},
   "outputs": [],
   "source": [
    "# Installation of NumPy\n",
    "# pip install numpy"
   ]
  },
  {
   "cell_type": "code",
   "execution_count": 5,
   "id": "f110f698-1648-4ed7-80f5-5c6bfee116ba",
   "metadata": {},
   "outputs": [],
   "source": [
    "# Import NumPy\n",
    "# Once NumPy is installed, import it in your applications by adding the import keyword:\n",
    "# ------import numpy------"
   ]
  },
  {
   "cell_type": "code",
   "execution_count": 11,
   "id": "e75d4e54-986e-44e5-82da-06c647ca0af1",
   "metadata": {},
   "outputs": [
    {
     "name": "stdout",
     "output_type": "stream",
     "text": [
      "[1 2 3 4 5]\n"
     ]
    }
   ],
   "source": [
    "#Example>>>>>>>>>\n",
    "import numpy\n",
    "\n",
    "arr = numpy.array([1, 2, 3, 4, 5])\n",
    "\n",
    "print(arr)"
   ]
  },
  {
   "cell_type": "code",
   "execution_count": 7,
   "id": "ac90c814-f586-4534-b440-4a3025187e98",
   "metadata": {},
   "outputs": [],
   "source": [
    "# NumPy as np\n",
    "# NumPy is usually imported under the np alias."
   ]
  },
  {
   "cell_type": "code",
   "execution_count": 8,
   "id": "cc035965-93c1-42d0-b934-4037785494f1",
   "metadata": {},
   "outputs": [],
   "source": [
    "# Create a NumPy ndarray Object\n",
    "# NumPy is used to work with arrays. The array object in NumPy is called ndarray.\n",
    "\n",
    "# We can create a NumPy ndarray object by using the array() function.\n",
    "\n"
   ]
  },
  {
   "cell_type": "code",
   "execution_count": 9,
   "id": "a5dd62ae-30c1-4b24-96ad-986f35f465df",
   "metadata": {},
   "outputs": [
    {
     "name": "stdout",
     "output_type": "stream",
     "text": [
      "[1 2 3 4 5]\n",
      "<class 'numpy.ndarray'>\n"
     ]
    }
   ],
   "source": [
    "import numpy as np\n",
    "\n",
    "arr = np.array([1, 2, 3, 4, 5])\n",
    "\n",
    "print(arr)\n",
    "\n",
    "print(type(arr))\n"
   ]
  },
  {
   "cell_type": "code",
   "execution_count": 12,
   "id": "512ef123-a7a8-4ac6-9ad3-218b84a19b88",
   "metadata": {},
   "outputs": [],
   "source": [
    "# Dimensions in Arrays\n",
    "# A dimension in arrays is one level of array depth (nested arrays)."
   ]
  },
  {
   "cell_type": "code",
   "execution_count": 13,
   "id": "0a5b43fb-9625-41e8-a1f9-af3c9daaa7f4",
   "metadata": {},
   "outputs": [],
   "source": [
    "# 0-D Arrays\n",
    "# 0-D arrays, or Scalars, are the elements in an array. Each value in an array is a 0-D array.\n",
    "\n"
   ]
  },
  {
   "cell_type": "code",
   "execution_count": 14,
   "id": "ee18f454-0d00-4055-8833-c992fc879baa",
   "metadata": {},
   "outputs": [
    {
     "name": "stdout",
     "output_type": "stream",
     "text": [
      "42\n"
     ]
    }
   ],
   "source": [
    "#Example\n",
    "#Create a 0-D array with value 42\n",
    "\n",
    "import numpy as np\n",
    "\n",
    "arr = np.array(42)\n",
    "\n",
    "print(arr)\n"
   ]
  },
  {
   "cell_type": "code",
   "execution_count": 15,
   "id": "b4940ced-db88-481c-8893-071e7b2d65d8",
   "metadata": {},
   "outputs": [],
   "source": [
    "# 1-D Arrays\n",
    "# An array that has 0-D arrays as its elements is called uni-dimensional or 1-D array.\n",
    "\n",
    "# These are the most common and basic arrays."
   ]
  },
  {
   "cell_type": "code",
   "execution_count": 16,
   "id": "65aa835f-5e34-412f-b5ab-df36f227f9c3",
   "metadata": {},
   "outputs": [
    {
     "name": "stdout",
     "output_type": "stream",
     "text": [
      "[1 2 3 4 5]\n"
     ]
    }
   ],
   "source": [
    "#Create a 1-D array containing the values 1,2,3,4,5:\n",
    "\n",
    "import numpy as np\n",
    "\n",
    "arr = np.array([1, 2, 3, 4, 5])\n",
    "\n",
    "print(arr)"
   ]
  },
  {
   "cell_type": "code",
   "execution_count": 17,
   "id": "a1fa87ba-198a-42c6-931d-9019b9c9b79b",
   "metadata": {},
   "outputs": [],
   "source": [
    "# 2-D Arrays\n",
    "# An array that has 1-D arrays as its elements is called a 2-D array.\n",
    "\n",
    "# These are often used to represent matrix or 2nd order tensors."
   ]
  },
  {
   "cell_type": "code",
   "execution_count": 18,
   "id": "8ea24bf6-639c-4a2f-94ff-7336df18e173",
   "metadata": {},
   "outputs": [
    {
     "name": "stdout",
     "output_type": "stream",
     "text": [
      "[[1 2 3]\n",
      " [4 5 6]]\n"
     ]
    }
   ],
   "source": [
    "#Create a 2-D array containing two arrays with the values 1,2,3 and 4,5,6:\n",
    "\n",
    "import numpy as np\n",
    "\n",
    "arr = np.array([[1, 2, 3], [4, 5, 6]])\n",
    "\n",
    "print(arr)"
   ]
  },
  {
   "cell_type": "code",
   "execution_count": 19,
   "id": "9667ce1d-fe9f-410a-a777-e6af6e87e54c",
   "metadata": {},
   "outputs": [],
   "source": [
    "# 3-D arrays\n",
    "# An array that has 2-D arrays (matrices) as its elements is called 3-D array.\n",
    "\n",
    "# These are often used to represent a 3rd order tensor."
   ]
  },
  {
   "cell_type": "code",
   "execution_count": 20,
   "id": "33db4f90-16e9-497c-8722-01beab3d63ac",
   "metadata": {},
   "outputs": [
    {
     "name": "stdout",
     "output_type": "stream",
     "text": [
      "[[[1 2 3]\n",
      "  [4 5 6]]\n",
      "\n",
      " [[1 2 3]\n",
      "  [4 5 6]]]\n"
     ]
    }
   ],
   "source": [
    "import numpy as np\n",
    "\n",
    "arr = np.array([[[1, 2, 3], [4, 5, 6]], [[1, 2, 3], [4, 5, 6]]])\n",
    "\n",
    "print(arr)"
   ]
  },
  {
   "cell_type": "code",
   "execution_count": 21,
   "id": "6b38c861-27e0-44e7-9305-b6fae039463e",
   "metadata": {},
   "outputs": [],
   "source": [
    "# Check Number of Dimensions?\n",
    "# NumPy Arrays provides the ndim attribute that returns an integer that tells us how many dimensions the array have."
   ]
  },
  {
   "cell_type": "code",
   "execution_count": 22,
   "id": "2dfffdf2-f5d4-43d6-8331-5be256188ae3",
   "metadata": {},
   "outputs": [
    {
     "name": "stdout",
     "output_type": "stream",
     "text": [
      "0\n",
      "1\n",
      "2\n",
      "3\n"
     ]
    }
   ],
   "source": [
    "import numpy as np\n",
    "\n",
    "a = np.array(42)\n",
    "b = np.array([1, 2, 3, 4, 5])\n",
    "c = np.array([[1, 2, 3], [4, 5, 6]])\n",
    "d = np.array([[[1, 2, 3], [4, 5, 6]], [[1, 2, 3], [4, 5, 6]]])\n",
    "\n",
    "print(a.ndim)\n",
    "print(b.ndim)\n",
    "print(c.ndim)\n",
    "print(d.ndim)\n"
   ]
  },
  {
   "cell_type": "code",
   "execution_count": 23,
   "id": "582f0d84-65c1-4ba0-b6b0-aca51517b739",
   "metadata": {},
   "outputs": [],
   "source": [
    "# Access Array Elements\n",
    "# Array indexing is the same as accessing an array element.\n",
    "\n",
    "# You can access an array element by referring to its index number.\n",
    "\n",
    "# The indexes in NumPy arrays start with 0, meaning that the first element has index 0, and the second has index 1 etc."
   ]
  },
  {
   "cell_type": "code",
   "execution_count": 24,
   "id": "9c2a7bc4-736f-432f-b184-4c2cee08688c",
   "metadata": {},
   "outputs": [
    {
     "name": "stdout",
     "output_type": "stream",
     "text": [
      "1\n"
     ]
    }
   ],
   "source": [
    "import numpy as np\n",
    "\n",
    "arr = np.array([1, 2, 3, 4])\n",
    "\n",
    "print(arr[0])"
   ]
  },
  {
   "cell_type": "code",
   "execution_count": 25,
   "id": "face45b2-a252-4561-8e3f-9ee16ad329ca",
   "metadata": {},
   "outputs": [],
   "source": [
    "# Access 2-D Arrays\n",
    "# To access elements from 2-D arrays we can use comma separated integers representing the dimension and the index of the element.\n",
    "\n",
    "# Think of 2-D arrays like a table with rows and columns, where the dimension represents the row and the index represents the column.\n",
    "\n"
   ]
  },
  {
   "cell_type": "code",
   "execution_count": 26,
   "id": "f3c2fc20-b99f-41f1-8b89-7a1b4d46ef18",
   "metadata": {},
   "outputs": [
    {
     "name": "stdout",
     "output_type": "stream",
     "text": [
      "2nd element on 1st row:  2\n"
     ]
    }
   ],
   "source": [
    "import numpy as np\n",
    "\n",
    "arr = np.array([[1,2,3,4,5], [6,7,8,9,10]])\n",
    "\n",
    "print('2nd element on 1st row: ', arr[0, 1])\n"
   ]
  },
  {
   "cell_type": "code",
   "execution_count": 27,
   "id": "487fdbfb-8b72-492f-aaae-a4c58be41615",
   "metadata": {},
   "outputs": [],
   "source": [
    "# Access 3-D Arrays\n",
    "# To access elements from 3-D arrays we can use comma separated integers representing the dimensions and the index of the element."
   ]
  },
  {
   "cell_type": "code",
   "execution_count": null,
   "id": "fe8b0f04-b02e-409e-8caf-11ed21472057",
   "metadata": {},
   "outputs": [],
   "source": []
  }
 ],
 "metadata": {
  "kernelspec": {
   "display_name": "Python 3 (ipykernel)",
   "language": "python",
   "name": "python3"
  },
  "language_info": {
   "codemirror_mode": {
    "name": "ipython",
    "version": 3
   },
   "file_extension": ".py",
   "mimetype": "text/x-python",
   "name": "python",
   "nbconvert_exporter": "python",
   "pygments_lexer": "ipython3",
   "version": "3.13.3"
  }
 },
 "nbformat": 4,
 "nbformat_minor": 5
}
